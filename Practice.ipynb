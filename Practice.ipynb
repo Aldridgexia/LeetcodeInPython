{
 "cells": [
  {
   "cell_type": "code",
   "execution_count": 20,
   "metadata": {
    "collapsed": true
   },
   "outputs": [],
   "source": [
    "def nextGreaterElements(nums):\n",
    "    stack, res = [], [-1 for i in range(len(nums))]\n",
    "    for i in range(len(nums)):\n",
    "        while stack and (nums[stack[-1]] < nums[i]):\n",
    "            res[stack.pop()] = nums[i]\n",
    "        stack.append(i)\n",
    "    if stack:\n",
    "        for i in range(stack[0] + 1):\n",
    "            while nums[stack[-1]] < nums[i]:\n",
    "                res[stack.pop()] = nums[i]\n",
    "    return res"
   ]
  },
  {
   "cell_type": "code",
   "execution_count": 21,
   "metadata": {
    "collapsed": false
   },
   "outputs": [
    {
     "name": "stdout",
     "output_type": "stream",
     "text": [
      "5.86 µs ± 109 ns per loop (mean ± std. dev. of 7 runs, 100000 loops each)\n"
     ]
    }
   ],
   "source": [
    "nums = [1, 3, 5, 4, 2]\n",
    "# nums = []\n",
    "%timeit nextGreaterElements(nums)"
   ]
  },
  {
   "cell_type": "code",
   "execution_count": 17,
   "metadata": {
    "collapsed": true
   },
   "outputs": [],
   "source": [
    " def nextGreaterElements2(nums):\n",
    "    stack, r = [], [-1] * len(nums)\n",
    "    for i in range(len(nums)):\n",
    "        while stack and (nums[stack[-1]] < nums[i]):\n",
    "            r[stack.pop()] = nums[i]\n",
    "        stack.append(i)\n",
    "    for i in range(len(nums)):\n",
    "        while stack and (nums[stack[-1]] < nums[i]):\n",
    "            r[stack.pop()] = nums[i]\n",
    "        if stack == []:\n",
    "            break\n",
    "    return r"
   ]
  },
  {
   "cell_type": "code",
   "execution_count": 19,
   "metadata": {
    "collapsed": false
   },
   "outputs": [
    {
     "name": "stdout",
     "output_type": "stream",
     "text": [
      "6.09 µs ± 304 ns per loop (mean ± std. dev. of 7 runs, 100000 loops each)\n"
     ]
    }
   ],
   "source": [
    "nums = [1, 3, 5, 4, 2]\n",
    "# nums = []\n",
    "%timeit nextGreaterElements2(nums)"
   ]
  },
  {
   "cell_type": "code",
   "execution_count": 24,
   "metadata": {
    "collapsed": false
   },
   "outputs": [
    {
     "name": "stdout",
     "output_type": "stream",
     "text": [
      "159 µs ± 16.5 µs per loop (mean ± std. dev. of 7 runs, 10000 loops each)\n"
     ]
    }
   ],
   "source": [
    "nums = np.random.randint(100,size=100)\n",
    "%timeit nextGreaterElements2(nums)"
   ]
  },
  {
   "cell_type": "code",
   "execution_count": 25,
   "metadata": {
    "collapsed": false
   },
   "outputs": [
    {
     "name": "stdout",
     "output_type": "stream",
     "text": [
      "127 µs ± 7.5 µs per loop (mean ± std. dev. of 7 runs, 10000 loops each)\n"
     ]
    }
   ],
   "source": [
    "%timeit nextGreaterElements(nums)"
   ]
  },
  {
   "cell_type": "code",
   "execution_count": null,
   "metadata": {
    "collapsed": true
   },
   "outputs": [],
   "source": []
  }
 ],
 "metadata": {
  "anaconda-cloud": {},
  "kernelspec": {
   "display_name": "Python [Root]",
   "language": "python",
   "name": "Python [Root]"
  },
  "language_info": {
   "codemirror_mode": {
    "name": "ipython",
    "version": 3
   },
   "file_extension": ".py",
   "mimetype": "text/x-python",
   "name": "python",
   "nbconvert_exporter": "python",
   "pygments_lexer": "ipython3",
   "version": "3.5.2"
  }
 },
 "nbformat": 4,
 "nbformat_minor": 2
}
